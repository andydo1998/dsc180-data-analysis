{
 "cells": [
  {
   "cell_type": "markdown",
   "id": "1d5aa3fc",
   "metadata": {},
   "source": [
    "# Data Cleaning and Exploration"
   ]
  },
  {
   "cell_type": "code",
   "execution_count": 2,
   "id": "4d8ea1e4",
   "metadata": {},
   "outputs": [],
   "source": [
    "import sys\n",
    "import sqlite3\n",
    "import pandas as pd\n",
    "import numpy as np\n",
    "import os\n",
    "import json\n",
    "import matplotlib.pyplot as plt\n",
    "from collections import defaultdict\n",
    "\n",
    "def get_data(filepath):\n",
    "    '''\n",
    "    Converts all database files in filepath into a single Dataframe\n",
    "    Also converts columns into the correct data type\n",
    "    \n",
    "    Tests whether columns are correct data type\n",
    "    Prints 'Dataframe is working intended' if data types are correct\n",
    "    Return will be 2 DataFrames, the first one is the String values and the second one will be integer values\n",
    "    \n",
    "    Returns None if DataFrames are not in correct formats\n",
    "    '''\n",
    "    # 2 queries, one for string value and one for integer values\n",
    "    appended_data_string = [] \n",
    "    appended_data_ull = []\n",
    "    \n",
    "    # loop through all files in test/testdata\n",
    "    for filename in os.listdir(filepath):\n",
    "        if filename == '.ipynb_checkpoints':\n",
    "            continue\n",
    "            \n",
    "        # create the sql connection\n",
    "        cnx = sqlite3.connect(filepath + filename)\n",
    "\n",
    "        # read as dataframe, set 'MEASUREMENT_TIME' as date time object\n",
    "        sub_df_string = pd.read_sql_query(\"SELECT * FROM COUNTERS_STRING_TIME_DATA\", cnx)\n",
    "        sub_df_ull = pd.read_sql_query(\"SELECT * FROM COUNTERS_ULL_TIME_DATA\", cnx)\n",
    "\n",
    "        # append \"Start Row\"\n",
    "        first_row_string = sub_df_string.loc[0]\n",
    "        new_row_string = pd.DataFrame({'MEASUREMENT_TIME': first_row_string[0], 'ID_INPUT': first_row_string[1], 'VALUE': 's0', 'PRIVATE_DATA': 0}, index =[0])\n",
    "        sub_df_string = pd.concat([new_row_string, sub_df_string]).reset_index(drop=True)\n",
    "        \n",
    "        # append the informations\n",
    "        appended_data_string.append(sub_df_string)\n",
    "        appended_data_ull.append(sub_df_ull)\n",
    "\n",
    "    # converting into 2 dataframes\n",
    "    df_string = pd.concat(appended_data_string, ignore_index = True)\n",
    "    df_ull = pd.concat(appended_data_ull, ignore_index = True)\n",
    "    \n",
    "    # preprocess the data\n",
    "    df_string = preprocess(df_string)\n",
    "    df_ull = preprocess(df_ull)\n",
    "    \n",
    "    # run tests on dataframe\n",
    "    #if (test_dataframe_string(df_string) and test_dataframe_ull(df_ull)):\n",
    "    #    return df_string, df_ull\n",
    "    return df_string, df_ull\n",
    "    # something went wrong!\n",
    "    return None\n",
    "\n",
    "\n",
    "def preprocess(df):\n",
    "    '''\n",
    "    Preprocess DataFrame so all data types are correct\n",
    "    '''\n",
    "    df['MEASUREMENT_TIME'] = pd.to_datetime(df['MEASUREMENT_TIME'])\n",
    "    df['PRIVATE_DATA'] = df['PRIVATE_DATA'].astype(int)\n",
    "    \n",
    "    return df\n",
    "\n",
    "def test_dataframe_string(df):\n",
    "    '''\n",
    "    Checks whether the string DataFrame is in the correct format\n",
    "    '''\n",
    "    # get all dtypes\n",
    "    dtypes = df.dtypes\n",
    "    \n",
    "    # columns should be date time, integer, string, then integer\n",
    "    if dtypes[0] == '<M8[ns]' and dtypes[1] == 'int64' and dtypes[2] == 'object' and dtypes[3] == 'int64':\n",
    "        return True\n",
    "    \n",
    "    return False\n",
    "        \n",
    "\n",
    "def test_dataframe_ull(df):\n",
    "    '''\n",
    "    Checks whether the ull DataFrame is in the correct format\n",
    "    '''\n",
    "    # get all dtypes\n",
    "    dtypes = df.dtypes\n",
    "    \n",
    "    # columns should be date time, integer, integer, then integer\n",
    "    if dtypes[0] == '<M8[ns]' and dtypes[1] == 'int64' and dtypes[2] == 'int64' and dtypes[3] == 'int64':\n",
    "        return True\n",
    "    \n",
    "    return False"
   ]
  },
  {
   "cell_type": "code",
   "execution_count": 3,
   "id": "52687074",
   "metadata": {},
   "outputs": [],
   "source": [
    "df_string, df_ull = get_data('test/testdata/')"
   ]
  },
  {
   "cell_type": "code",
   "execution_count": 57,
   "id": "416f5bf7",
   "metadata": {
    "scrolled": false
   },
   "outputs": [
    {
     "data": {
      "text/html": [
       "<div>\n",
       "<style scoped>\n",
       "    .dataframe tbody tr th:only-of-type {\n",
       "        vertical-align: middle;\n",
       "    }\n",
       "\n",
       "    .dataframe tbody tr th {\n",
       "        vertical-align: top;\n",
       "    }\n",
       "\n",
       "    .dataframe thead th {\n",
       "        text-align: right;\n",
       "    }\n",
       "</style>\n",
       "<table border=\"1\" class=\"dataframe\">\n",
       "  <thead>\n",
       "    <tr style=\"text-align: right;\">\n",
       "      <th></th>\n",
       "      <th>MEASUREMENT_TIME</th>\n",
       "      <th>ID_INPUT</th>\n",
       "      <th>VALUE</th>\n",
       "      <th>PRIVATE_DATA</th>\n",
       "    </tr>\n",
       "  </thead>\n",
       "  <tbody>\n",
       "    <tr>\n",
       "      <th>0</th>\n",
       "      <td>2021-12-01 06:14:49.924</td>\n",
       "      <td>3</td>\n",
       "      <td>s0</td>\n",
       "      <td>0</td>\n",
       "    </tr>\n",
       "    <tr>\n",
       "      <th>1</th>\n",
       "      <td>2021-12-01 06:14:49.924</td>\n",
       "      <td>3</td>\n",
       "      <td>explorer.exe</td>\n",
       "      <td>0</td>\n",
       "    </tr>\n",
       "    <tr>\n",
       "      <th>2</th>\n",
       "      <td>2021-12-01 06:14:50.950</td>\n",
       "      <td>3</td>\n",
       "      <td>esrv.exe</td>\n",
       "      <td>0</td>\n",
       "    </tr>\n",
       "    <tr>\n",
       "      <th>3</th>\n",
       "      <td>2021-12-01 06:14:51.461</td>\n",
       "      <td>3</td>\n",
       "      <td>Teams.exe</td>\n",
       "      <td>0</td>\n",
       "    </tr>\n",
       "    <tr>\n",
       "      <th>4</th>\n",
       "      <td>2021-12-01 06:14:52.490</td>\n",
       "      <td>3</td>\n",
       "      <td>esrv.exe</td>\n",
       "      <td>0</td>\n",
       "    </tr>\n",
       "  </tbody>\n",
       "</table>\n",
       "</div>"
      ],
      "text/plain": [
       "         MEASUREMENT_TIME  ID_INPUT         VALUE  PRIVATE_DATA\n",
       "0 2021-12-01 06:14:49.924         3            s0             0\n",
       "1 2021-12-01 06:14:49.924         3  explorer.exe             0\n",
       "2 2021-12-01 06:14:50.950         3      esrv.exe             0\n",
       "3 2021-12-01 06:14:51.461         3     Teams.exe             0\n",
       "4 2021-12-01 06:14:52.490         3      esrv.exe             0"
      ]
     },
     "execution_count": 57,
     "metadata": {},
     "output_type": "execute_result"
    }
   ],
   "source": [
    "df_string.head()"
   ]
  },
  {
   "cell_type": "code",
   "execution_count": 4,
   "id": "f8c6fa0c",
   "metadata": {},
   "outputs": [
    {
     "data": {
      "text/plain": [
       "MEASUREMENT_TIME    datetime64[ns]\n",
       "ID_INPUT                     int64\n",
       "VALUE                       object\n",
       "PRIVATE_DATA                 int32\n",
       "dtype: object"
      ]
     },
     "execution_count": 4,
     "metadata": {},
     "output_type": "execute_result"
    }
   ],
   "source": [
    "df_string.dtypes"
   ]
  },
  {
   "cell_type": "code",
   "execution_count": 5,
   "id": "830864a7",
   "metadata": {},
   "outputs": [
    {
     "data": {
      "text/html": [
       "<div>\n",
       "<style scoped>\n",
       "    .dataframe tbody tr th:only-of-type {\n",
       "        vertical-align: middle;\n",
       "    }\n",
       "\n",
       "    .dataframe tbody tr th {\n",
       "        vertical-align: top;\n",
       "    }\n",
       "\n",
       "    .dataframe thead th {\n",
       "        text-align: right;\n",
       "    }\n",
       "</style>\n",
       "<table border=\"1\" class=\"dataframe\">\n",
       "  <thead>\n",
       "    <tr style=\"text-align: right;\">\n",
       "      <th></th>\n",
       "      <th>MEASUREMENT_TIME</th>\n",
       "      <th>ID_INPUT</th>\n",
       "      <th>VALUE</th>\n",
       "      <th>PRIVATE_DATA</th>\n",
       "    </tr>\n",
       "  </thead>\n",
       "  <tbody>\n",
       "    <tr>\n",
       "      <th>0</th>\n",
       "      <td>2021-12-01 06:14:48.902</td>\n",
       "      <td>0</td>\n",
       "      <td>1</td>\n",
       "      <td>0</td>\n",
       "    </tr>\n",
       "    <tr>\n",
       "      <th>1</th>\n",
       "      <td>2021-12-01 06:14:49.411</td>\n",
       "      <td>0</td>\n",
       "      <td>1</td>\n",
       "      <td>0</td>\n",
       "    </tr>\n",
       "    <tr>\n",
       "      <th>2</th>\n",
       "      <td>2021-12-01 06:14:48.902</td>\n",
       "      <td>1</td>\n",
       "      <td>657</td>\n",
       "      <td>0</td>\n",
       "    </tr>\n",
       "    <tr>\n",
       "      <th>3</th>\n",
       "      <td>2021-12-01 06:14:48.902</td>\n",
       "      <td>2</td>\n",
       "      <td>551</td>\n",
       "      <td>0</td>\n",
       "    </tr>\n",
       "    <tr>\n",
       "      <th>4</th>\n",
       "      <td>2021-12-01 06:14:49.923</td>\n",
       "      <td>0</td>\n",
       "      <td>1</td>\n",
       "      <td>0</td>\n",
       "    </tr>\n",
       "  </tbody>\n",
       "</table>\n",
       "</div>"
      ],
      "text/plain": [
       "         MEASUREMENT_TIME  ID_INPUT  VALUE  PRIVATE_DATA\n",
       "0 2021-12-01 06:14:48.902         0      1             0\n",
       "1 2021-12-01 06:14:49.411         0      1             0\n",
       "2 2021-12-01 06:14:48.902         1    657             0\n",
       "3 2021-12-01 06:14:48.902         2    551             0\n",
       "4 2021-12-01 06:14:49.923         0      1             0"
      ]
     },
     "execution_count": 5,
     "metadata": {},
     "output_type": "execute_result"
    }
   ],
   "source": [
    "df_ull.head()"
   ]
  },
  {
   "cell_type": "code",
   "execution_count": 6,
   "id": "b0d5800d",
   "metadata": {},
   "outputs": [
    {
     "data": {
      "text/plain": [
       "MEASUREMENT_TIME    datetime64[ns]\n",
       "ID_INPUT                     int64\n",
       "VALUE                        int64\n",
       "PRIVATE_DATA                 int32\n",
       "dtype: object"
      ]
     },
     "execution_count": 6,
     "metadata": {},
     "output_type": "execute_result"
    }
   ],
   "source": [
    "df_ull.dtypes"
   ]
  },
  {
   "cell_type": "code",
   "execution_count": 7,
   "id": "8483634f",
   "metadata": {
    "scrolled": true
   },
   "outputs": [
    {
     "data": {
      "text/plain": [
       "chrome.exe      336\n",
       "explorer.exe    243\n",
       "Zoom.exe        174\n",
       "Teams.exe       129\n",
       "Discord.exe      97\n",
       "Name: VALUE, dtype: int64"
      ]
     },
     "execution_count": 7,
     "metadata": {},
     "output_type": "execute_result"
    }
   ],
   "source": [
    "df_string[df_string['ID_INPUT'] == 3]['VALUE'].value_counts()[:5]"
   ]
  },
  {
   "cell_type": "code",
   "execution_count": 8,
   "id": "6ccdcd2d",
   "metadata": {},
   "outputs": [
    {
     "name": "stdout",
     "output_type": "stream",
     "text": [
      "Number of Applications: 55\n"
     ]
    }
   ],
   "source": [
    "num_apps = len(df_string[df_string['ID_INPUT'] == 3]['VALUE'].unique())\n",
    "print('Number of Applications: ' + str(num_apps))"
   ]
  },
  {
   "cell_type": "code",
   "execution_count": 9,
   "id": "7f44899c",
   "metadata": {},
   "outputs": [
    {
     "data": {
      "image/png": "[encoded data removed]",
      "text/plain": [
       "<Figure size 432x288 with 1 Axes>"
      ]
     },
     "metadata": {
      "needs_background": "light"
     },
     "output_type": "display_data"
    }
   ],
   "source": [
    "df_string[df_string['ID_INPUT'] == 3]['VALUE'].value_counts()[:5].plot.barh(x = 'index', y = 'VALUE')\n",
    "plt.show()"
   ]
  },
  {
   "cell_type": "code",
   "execution_count": 10,
   "id": "fd875d06",
   "metadata": {},
   "outputs": [
    {
     "data": {
      "text/plain": [
       "EADesktopInstaller.exe     1\n",
       "XboxInstaller.exe          1\n",
       "AccountsControlHost.exe    1\n",
       "Steam.exe                  1\n",
       "mcclauncher.exe            1\n",
       "Name: VALUE, dtype: int64"
      ]
     },
     "execution_count": 10,
     "metadata": {},
     "output_type": "execute_result"
    }
   ],
   "source": [
    "df_string['VALUE'].value_counts()[-5:]"
   ]
  },
  {
   "cell_type": "code",
   "execution_count": 11,
   "id": "fd769b18",
   "metadata": {},
   "outputs": [
    {
     "data": {
      "image/png": "[encoded data removed]",
      "text/plain": [
       "<Figure size 432x288 with 1 Axes>"
      ]
     },
     "metadata": {
      "needs_background": "light"
     },
     "output_type": "display_data"
    }
   ],
   "source": [
    "df_string[df_string['ID_INPUT'] == 3]['VALUE'].value_counts()[-5:].plot.barh(x = 'index', y = 'VALUE')\n",
    "plt.show()"
   ]
  },
  {
   "cell_type": "markdown",
   "id": "0c626a4c",
   "metadata": {},
   "source": [
    "# Markov Model"
   ]
  },
  {
   "cell_type": "code",
   "execution_count": 4,
   "id": "4a1964eb",
   "metadata": {},
   "outputs": [],
   "source": [
    "# Only foreground data\n",
    "df = df_string[df_string['ID_INPUT'] == 3] "
   ]
  },
  {
   "cell_type": "code",
   "execution_count": 5,
   "id": "4702d839",
   "metadata": {},
   "outputs": [],
   "source": [
    "pairCount = defaultdict(int) # dict with unique senquential exe pairs being keys\n",
    "allPairs = []\n",
    "for i in range(df.shape[0]-1):\n",
    "    pair = (df.iloc[i]['VALUE'], df.iloc[i+1]['VALUE'])\n",
    "    allPairs.append(pair)\n",
    "    pairCount[pair] += 1"
   ]
  },
  {
   "cell_type": "code",
   "execution_count": 8,
   "id": "a401d66b",
   "metadata": {},
   "outputs": [],
   "source": [
    "from sklearn.model_selection import train_test_split"
   ]
  },
  {
   "cell_type": "code",
   "execution_count": 15,
   "id": "40e7c008",
   "metadata": {},
   "outputs": [],
   "source": [
    "X = np.array([x[0] for x in allPairs])\n",
    "y = np.array([x[1] for x in allPairs])"
   ]
  },
  {
   "cell_type": "code",
   "execution_count": 13,
   "id": "213a71c4",
   "metadata": {},
   "outputs": [],
   "source": [
    "X_train, X_test, y_train, y_test = train_test_split(X, y, test_size=0.2)"
   ]
  },
  {
   "cell_type": "code",
   "execution_count": 18,
   "id": "f2ec882d",
   "metadata": {},
   "outputs": [],
   "source": [
    "pairCountTrain = defaultdict(int)\n",
    "for i in range(len(X_train)):\n",
    "    pair = (X_train[i], y_train[i])\n",
    "    pairCountTrain[pair] += 1"
   ]
  },
  {
   "cell_type": "code",
   "execution_count": 19,
   "id": "c4f90dae",
   "metadata": {},
   "outputs": [],
   "source": [
    "pairProb = defaultdict(int)\n",
    "for pair in pairCountTrain:\n",
    "    b_count = sum(X_train == pair[0])\n",
    "    pairProb[pair] = pairCountTrain[pair] / b_count # divides counts by number of pairs for the first exe ('B' in P(A|B))"
   ]
  },
  {
   "cell_type": "code",
   "execution_count": 20,
   "id": "7bf07708",
   "metadata": {},
   "outputs": [
    {
     "data": {
      "text/plain": [
       "defaultdict(int,\n",
       "            {('s0', 'explorer.exe'): 0.8275862068965517,\n",
       "             ('explorer.exe', 'esrv.exe'): 0.0918918918918919,\n",
       "             ('esrv.exe', 'Teams.exe'): 0.05128205128205128,\n",
       "             ('Teams.exe', 'esrv.exe'): 0.009174311926605505,\n",
       "             ('esrv.exe', 'explorer.exe'): 0.1282051282051282,\n",
       "             ('Teams.exe', 'explorer.exe'): 0.29357798165137616,\n",
       "             ('esrv.exe', 's0'): 0.6923076923076923,\n",
       "             ('explorer.exe', 'notepad.exe'): 0.010810810810810811,\n",
       "             ('notepad.exe', 'explorer.exe'): 0.5,\n",
       "             ('explorer.exe', 'Teams.exe'): 0.13513513513513514,\n",
       "             ('explorer.exe', 'chrome.exe'): 0.2972972972972973,\n",
       "             ('chrome.exe', 'McUICnt.exe'): 0.02127659574468085,\n",
       "             ('McUICnt.exe', 'chrome.exe'): 0.2727272727272727,\n",
       "             ('chrome.exe', 'Zoom.exe'): 0.32269503546099293,\n",
       "             ('Zoom.exe', 'chrome.exe'): 0.4491017964071856,\n",
       "             ('Zoom.exe', 'Discord.exe'): 0.04790419161676647,\n",
       "             ('Discord.exe', 'Zoom.exe'): 0.17647058823529413,\n",
       "             ('chrome.exe', 'ShellExperienceHost.exe'): 0.02127659574468085,\n",
       "             ('ShellExperienceHost.exe', 'Discord.exe'): 0.21052631578947367,\n",
       "             ('Discord.exe', 'explorer.exe'): 0.08823529411764706,\n",
       "             ('Discord.exe', 'chrome.exe'): 0.4117647058823529,\n",
       "             ('chrome.exe', 'Discord.exe'): 0.0851063829787234,\n",
       "             ('explorer.exe', 'Discord.exe'): 0.07027027027027027,\n",
       "             ('Discord.exe', 'Teams.exe'): 0.07352941176470588,\n",
       "             ('Teams.exe', 'Zoom.exe'): 0.01834862385321101,\n",
       "             ('Zoom.exe', 'ShellExperienceHost.exe'): 0.011976047904191617,\n",
       "             ('Zoom.exe', 'Teams.exe'): 0.005988023952095809,\n",
       "             ('Zoom.exe', 'explorer.exe'): 0.17964071856287425,\n",
       "             ('explorer.exe', 'Zoom.exe'): 0.12432432432432433,\n",
       "             ('chrome.exe', 'msedge.exe'): 0.0070921985815602835,\n",
       "             ('msedge.exe', 'chrome.exe'): 0.10526315789473684,\n",
       "             ('Zoom.exe', 'esrv.exe'): 0.005988023952095809,\n",
       "             ('explorer.exe', 'Origin.exe'): 0.010810810810810811,\n",
       "             ('Origin.exe', 'McUICnt.exe'): 0.4,\n",
       "             ('McUICnt.exe', 'Origin.exe'): 0.09090909090909091,\n",
       "             ('Origin.exe', 'explorer.exe'): 0.4,\n",
       "             ('Origin.exe', 'Discord.exe'): 0.2,\n",
       "             ('explorer.exe', 'ShellExperienceHost.exe'): 0.021621621621621623,\n",
       "             ('ShellExperienceHost.exe', 'explorer.exe'): 0.15789473684210525,\n",
       "             ('chrome.exe', 'Origin.exe'): 0.0035460992907801418,\n",
       "             ('chrome.exe', 'explorer.exe'): 0.1276595744680851,\n",
       "             ('chrome.exe', 'Teams.exe'): 0.16312056737588654,\n",
       "             ('Teams.exe',\n",
       "              'Microsoft.AAD.BrokerPlugin.exe'): 0.03669724770642202,\n",
       "             ('Microsoft.AAD.BrokerPlugin.exe',\n",
       "              'Teams.exe'): 0.0784313725490196,\n",
       "             ('Teams.exe', 'chrome.exe'): 0.4036697247706422,\n",
       "             ('s0', 'esrv.exe'): 0.034482758620689655,\n",
       "             ('Teams.exe', 'Discord.exe'): 0.045871559633027525,\n",
       "             ('Discord.exe', 'utility.exe'): 0.014705882352941176,\n",
       "             ('utility.exe', 'vpnui.exe'): 0.5,\n",
       "             ('vpnui.exe', 'Teams.exe'): 0.2,\n",
       "             ('Microsoft.AAD.BrokerPlugin.exe',\n",
       "              'Docker Desktop.exe'): 0.0196078431372549,\n",
       "             ('Docker Desktop.exe', 'Microsoft.AAD.BrokerPlugin.exe'): 0.5,\n",
       "             ('Teams.exe', 'McUICnt.exe'): 0.027522935779816515,\n",
       "             ('McUICnt.exe', 'Teams.exe'): 0.09090909090909091,\n",
       "             ('Teams.exe', 'SearchApp.exe'): 0.009174311926605505,\n",
       "             ('SearchApp.exe', 'Teams.exe'): 0.02564102564102564,\n",
       "             ('Teams.exe', 'devenv.exe'): 0.045871559633027525,\n",
       "             ('devenv.exe', 'Teams.exe'): 0.5,\n",
       "             ('explorer.exe', 'Code.exe'): 0.005405405405405406,\n",
       "             ('Code.exe', 'explorer.exe'): 1.0,\n",
       "             ('explorer.exe', 'msedge.exe'): 0.02702702702702703,\n",
       "             ('msedge.exe', 'explorer.exe'): 0.21052631578947367,\n",
       "             ('McUICnt.exe', 'esrv.exe'): 0.09090909090909091,\n",
       "             ('s0', 'Teams.exe'): 0.034482758620689655,\n",
       "             ('Teams.exe', 'msedge.exe'): 0.10091743119266056,\n",
       "             ('msedge.exe', 'Teams.exe'): 0.631578947368421,\n",
       "             ('msedge.exe', 'devenv.exe'): 0.05263157894736842,\n",
       "             ('devenv.exe', 'msedge.exe'): 0.08333333333333333,\n",
       "             ('explorer.exe', 'SearchApp.exe'): 0.02702702702702703,\n",
       "             ('SearchApp.exe',\n",
       "              'StartMenuExperienceHost.exe'): 0.10256410256410256,\n",
       "             ('StartMenuExperienceHost.exe', 'SearchApp.exe'): 0.25,\n",
       "             ('StartMenuExperienceHost.exe', 'mintty.exe'): 0.25,\n",
       "             ('mintty.exe', 'Teams.exe'): 1.0,\n",
       "             ('explorer.exe', 'devenv.exe'): 0.010810810810810811,\n",
       "             ('devenv.exe', 'explorer.exe'): 0.16666666666666666,\n",
       "             ('explorer.exe',\n",
       "              'Razer Synapse Service Process.exe'): 0.005405405405405406,\n",
       "             ('Razer Synapse Service Process.exe', 'Teams.exe'): 1.0,\n",
       "             ('explorer.exe', 's0'): 0.005405405405405406,\n",
       "             ('explorer.exe', 'OneDrive.exe'): 0.005405405405405406,\n",
       "             ('OneDrive.exe', 'explorer.exe'): 1.0,\n",
       "             ('Teams.exe', 'ShellExperienceHost.exe'): 0.009174311926605505,\n",
       "             ('chrome.exe', 'devenv.exe'): 0.0070921985815602835,\n",
       "             ('devenv.exe', 'chrome.exe'): 0.16666666666666666,\n",
       "             ('SearchApp.exe', 'chrome.exe'): 0.3076923076923077,\n",
       "             ('McUICnt.exe', 'explorer.exe'): 0.18181818181818182,\n",
       "             ('explorer.exe', 'LockApp.exe'): 0.005405405405405406,\n",
       "             ('LockApp.exe', 'explorer.exe'): 0.2857142857142857,\n",
       "             ('explorer.exe',\n",
       "              'Microsoft.AAD.BrokerPlugin.exe'): 0.06486486486486487,\n",
       "             ('Microsoft.AAD.BrokerPlugin.exe',\n",
       "              'explorer.exe'): 0.17647058823529413,\n",
       "             ('Discord.exe', 'esrv.exe'): 0.029411764705882353,\n",
       "             ('chrome.exe', 'XboxInstaller.exe'): 0.0035460992907801418,\n",
       "             ('XboxInstaller.exe', 'ApplicationFrameHost.exe'): 1.0,\n",
       "             ('ApplicationFrameHost.exe', 'XboxIdp.exe'): 0.1,\n",
       "             ('XboxIdp.exe', 'XboxPcApp.exe'): 0.3333333333333333,\n",
       "             ('XboxPcApp.exe', 'XboxIdp.exe'): 0.0625,\n",
       "             ('XboxIdp.exe', 'AccountsControlHost.exe'): 0.3333333333333333,\n",
       "             ('AccountsControlHost.exe', 'XboxIdp.exe'): 1.0,\n",
       "             ('XboxIdp.exe', 'ShellExperienceHost.exe'): 0.3333333333333333,\n",
       "             ('ShellExperienceHost.exe', 'XboxPcApp.exe'): 0.05263157894736842,\n",
       "             ('XboxPcApp.exe', 'Clustertruck.exe'): 0.0625,\n",
       "             ('Clustertruck.exe', 'Admin App'): 0.5,\n",
       "             ('Admin App', 'WerFault.exe'): 0.16666666666666666,\n",
       "             ('WerFault.exe', 'Clustertruck.exe'): 1.0,\n",
       "             ('Clustertruck.exe', 'XboxPcApp.exe'): 0.5,\n",
       "             ('XboxPcApp.exe', 'chrome.exe'): 0.3125,\n",
       "             ('chrome.exe', 'XboxPcApp.exe'): 0.01773049645390071,\n",
       "             ('explorer.exe', 'XboxPcApp.exe'): 0.010810810810810811,\n",
       "             ('XboxPcApp.exe', 'Discord.exe'): 0.0625,\n",
       "             ('Discord.exe', 'XboxPcApp.exe'): 0.014705882352941176,\n",
       "             ('XboxPcApp.exe', 'explorer.exe'): 0.125,\n",
       "             ('XboxPcApp.exe', 'ShellExperienceHost.exe'): 0.0625,\n",
       "             ('ShellExperienceHost.exe',\n",
       "              'ApplicationFrameHost.exe'): 0.05263157894736842,\n",
       "             ('ApplicationFrameHost.exe', 'ShellExperienceHost.exe'): 0.1,\n",
       "             ('ShellExperienceHost.exe',\n",
       "              'SystemSettings.exe'): 0.15789473684210525,\n",
       "             ('SystemSettings.exe', 'XboxPcApp.exe'): 0.16666666666666666,\n",
       "             ('XboxPcApp.exe', 'MCCWinStore-Win64-Shipping.exe'): 0.125,\n",
       "             ('MCCWinStore-Win64-Shipping.exe',\n",
       "              'rundll32.exe'): 0.3333333333333333,\n",
       "             ('rundll32.exe', 'MCCWinStore-Win64-Shipping.exe'): 1.0,\n",
       "             ('MCCWinStore-Win64-Shipping.exe',\n",
       "              'SearchApp.exe'): 0.3333333333333333,\n",
       "             ('SearchApp.exe', 'XboxPcApp.exe'): 0.05128205128205128,\n",
       "             ('MCCWinStore-Win64-Shipping.exe',\n",
       "              'explorer.exe'): 0.3333333333333333,\n",
       "             ('chrome.exe', 'esrv.exe'): 0.028368794326241134,\n",
       "             ('chrome.exe',\n",
       "              'Microsoft.AAD.BrokerPlugin.exe'): 0.031914893617021274,\n",
       "             ('Microsoft.AAD.BrokerPlugin.exe',\n",
       "              'ApplicationFrameHost.exe'): 0.0196078431372549,\n",
       "             ('ApplicationFrameHost.exe', 'explorer.exe'): 0.2,\n",
       "             ('SearchApp.exe',\n",
       "              'ApplicationFrameHost.exe'): 0.15384615384615385,\n",
       "             ('XboxPcApp.exe', 'DonutCounty.exe'): 0.0625,\n",
       "             ('DonutCounty.exe', 'SearchApp.exe'): 0.75,\n",
       "             ('SearchApp.exe', 'DonutCounty.exe'): 0.05128205128205128,\n",
       "             ('explorer.exe', 'DonutCounty.exe'): 0.005405405405405406,\n",
       "             ('DonutCounty.exe', 'XboxPcApp.exe'): 0.25,\n",
       "             ('XboxPcApp.exe', 'McUICnt.exe'): 0.0625,\n",
       "             ('Zoom.exe', 'McUICnt.exe'): 0.017964071856287425,\n",
       "             ('McUICnt.exe', 'Zoom.exe'): 0.09090909090909091,\n",
       "             ('esrv.exe', 'chrome.exe'): 0.02564102564102564,\n",
       "             ('explorer.exe', 'utility.exe'): 0.005405405405405406,\n",
       "             ('utility.exe', 'explorer.exe'): 0.5,\n",
       "             ('explorer.exe', 'explorer.exe'): 0.005405405405405406,\n",
       "             ('Microsoft.AAD.BrokerPlugin.exe',\n",
       "              'chrome.exe'): 0.1568627450980392,\n",
       "             ('chrome.exe', 'AlertViewer.exe'): 0.0035460992907801418,\n",
       "             ('AlertViewer.exe', 'chrome.exe'): 1.0,\n",
       "             ('ShellExperienceHost.exe', 'chrome.exe'): 0.15789473684210525,\n",
       "             ('chrome.exe', 'uihost.exe'): 0.014184397163120567,\n",
       "             ('uihost.exe', 'chrome.exe'): 0.75,\n",
       "             ('chrome.exe', 'Docker Desktop.exe'): 0.0035460992907801418,\n",
       "             ('Docker Desktop.exe', 'explorer.exe'): 0.5,\n",
       "             ('chrome.exe', 'LockApp.exe'): 0.01773049645390071,\n",
       "             ('LockApp.exe', 'chrome.exe'): 0.7142857142857143,\n",
       "             ('explorer.exe',\n",
       "              'DB Browser for SQLite.exe'): 0.005405405405405406,\n",
       "             ('DB Browser for SQLite.exe',\n",
       "              'Microsoft.AAD.BrokerPlugin.exe'): 1.0,\n",
       "             ('Discord.exe',\n",
       "              'Microsoft.AAD.BrokerPlugin.exe'): 0.07352941176470588,\n",
       "             ('StartMenuExperienceHost.exe', 'ApplicationFrameHost.exe'): 0.25,\n",
       "             ('ApplicationFrameHost.exe', 'chrome.exe'): 0.1,\n",
       "             ('chrome.exe', 'Time.exe'): 0.05319148936170213,\n",
       "             ('Time.exe', 'chrome.exe'): 0.6190476190476191,\n",
       "             ('Time.exe', 'explorer.exe'): 0.09523809523809523,\n",
       "             ('uihost.exe', 'explorer.exe'): 0.25,\n",
       "             ('esrv.exe',\n",
       "              'Microsoft.AAD.BrokerPlugin.exe'): 0.02564102564102564,\n",
       "             ('Microsoft.AAD.BrokerPlugin.exe',\n",
       "              'McUICnt.exe'): 0.0784313725490196,\n",
       "             ('McUICnt.exe', 'SearchApp.exe'): 0.045454545454545456,\n",
       "             ('SearchApp.exe', 'explorer.exe'): 0.1282051282051282,\n",
       "             ('chrome.exe', 'Admin App'): 0.0035460992907801418,\n",
       "             ('Admin App', 'Steam.exe'): 0.16666666666666666,\n",
       "             ('Steam.exe', 'chrome.exe'): 1.0,\n",
       "             ('chrome.exe', 'steam.exe'): 0.0070921985815602835,\n",
       "             ('steam.exe', 'chrome.exe'): 0.08333333333333333,\n",
       "             ('chrome.exe', 'steamwebhelper.exe'): 0.014184397163120567,\n",
       "             ('steamwebhelper.exe', 'steam.exe'): 0.5238095238095238,\n",
       "             ('steam.exe', 'steamwebhelper.exe'): 0.8333333333333334,\n",
       "             ('steamwebhelper.exe', 'chrome.exe'): 0.047619047619047616,\n",
       "             ('steamwebhelper.exe', 'Discord.exe'): 0.14285714285714285,\n",
       "             ('Discord.exe', 'steamwebhelper.exe'): 0.10294117647058823,\n",
       "             ('steamwebhelper.exe', 'McUICnt.exe'): 0.07142857142857142,\n",
       "             ('McUICnt.exe', 'steamwebhelper.exe'): 0.09090909090909091,\n",
       "             ('steamwebhelper.exe', 'explorer.exe'): 0.07142857142857142,\n",
       "             ('steamwebhelper.exe',\n",
       "              'ShellExperienceHost.exe'): 0.023809523809523808,\n",
       "             ('Microsoft.AAD.BrokerPlugin.exe',\n",
       "              'esrv.exe'): 0.13725490196078433,\n",
       "             ('explorer.exe', 'steamwebhelper.exe'): 0.005405405405405406,\n",
       "             ('Zoom.exe', 'Zoom.exe'): 0.023952095808383235,\n",
       "             ('Zoom.exe', 'msedgewebview2.exe'): 0.10778443113772455,\n",
       "             ('msedgewebview2.exe', 'Zoom.exe'): 0.6428571428571429,\n",
       "             ('Zoom.exe',\n",
       "              'Microsoft.AAD.BrokerPlugin.exe'): 0.059880239520958084,\n",
       "             ('Microsoft.AAD.BrokerPlugin.exe',\n",
       "              'Zoom.exe'): 0.11764705882352941,\n",
       "             ('chrome.exe', 'SearchApp.exe'): 0.010638297872340425,\n",
       "             ('SearchApp.exe', 'Time.exe'): 0.02564102564102564,\n",
       "             ('Time.exe', 'Zoom.exe'): 0.2857142857142857,\n",
       "             ('Zoom.exe', 'Time.exe'): 0.029940119760479042,\n",
       "             ('esrv.exe', 'steamwebhelper.exe'): 0.05128205128205128,\n",
       "             ('steamwebhelper.exe',\n",
       "              'Microsoft.AAD.BrokerPlugin.exe'): 0.047619047619047616,\n",
       "             ('Microsoft.AAD.BrokerPlugin.exe',\n",
       "              'SearchApp.exe'): 0.0392156862745098,\n",
       "             ('SearchApp.exe', 'SystemSettings.exe'): 0.05128205128205128,\n",
       "             ('SystemSettings.exe',\n",
       "              'ShellExperienceHost.exe'): 0.16666666666666666,\n",
       "             ('SystemSettings.exe',\n",
       "              'Microsoft.AAD.BrokerPlugin.exe'): 0.16666666666666666,\n",
       "             ('Microsoft.AAD.BrokerPlugin.exe',\n",
       "              'steamwebhelper.exe'): 0.0196078431372549,\n",
       "             ('steam.exe', 'DBFighterZ.exe'): 0.08333333333333333,\n",
       "             ('DBFighterZ.exe', 'steamwebhelper.exe'): 1.0,\n",
       "             ('steamwebhelper.exe',\n",
       "              'RED-Win64-Shipping.exe'): 0.023809523809523808,\n",
       "             ('RED-Win64-Shipping.exe', 'SearchApp.exe'): 0.875,\n",
       "             ('SearchApp.exe', 'RED-Win64-Shipping.exe'): 0.05128205128205128,\n",
       "             ('ApplicationFrameHost.exe', 'Admin App'): 0.1,\n",
       "             ('Admin App', 'ShellExperienceHost.exe'): 0.16666666666666666,\n",
       "             ('SystemSettings.exe',\n",
       "              'RED-Win64-Shipping.exe'): 0.3333333333333333,\n",
       "             ('ApplicationFrameHost.exe', 'RED-Win64-Shipping.exe'): 0.1,\n",
       "             ('ShellExperienceHost.exe', 'SearchApp.exe'): 0.05263157894736842,\n",
       "             ('SearchApp.exe', 'steamwebhelper.exe'): 0.02564102564102564,\n",
       "             ('Microsoft.AAD.BrokerPlugin.exe',\n",
       "              'Discord.exe'): 0.0784313725490196,\n",
       "             ('ApplicationFrameHost.exe', 'EADesktopInstaller.exe'): 0.1,\n",
       "             ('EADesktopInstaller.exe', 'Admin App'): 1.0,\n",
       "             ('Admin App', 'Admin App'): 0.3333333333333333,\n",
       "             ('Admin App', 'XboxPcApp.exe'): 0.16666666666666666,\n",
       "             ('XboxPcApp.exe', 'Microsoft.AAD.BrokerPlugin.exe'): 0.0625,\n",
       "             ('explorer.exe', 'EADesktop.exe'): 0.005405405405405406,\n",
       "             ('EADesktop.exe',\n",
       "              'Microsoft.AAD.BrokerPlugin.exe'): 0.18181818181818182,\n",
       "             ('chrome.exe', 'EADesktop.exe'): 0.014184397163120567,\n",
       "             ('EADesktop.exe', 'chrome.exe'): 0.36363636363636365,\n",
       "             ('EADesktop.exe', 'Discord.exe'): 0.09090909090909091,\n",
       "             ('Discord.exe', 'EADesktop.exe'): 0.014705882352941176,\n",
       "             ('EADesktop.exe', 'EADesktop.exe'): 0.18181818181818182,\n",
       "             ('EADesktop.exe', 'Peggle.exe'): 0.09090909090909091,\n",
       "             ('Peggle.exe', 'Microsoft.AAD.BrokerPlugin.exe'): 1.0,\n",
       "             ('Microsoft.AAD.BrokerPlugin.exe',\n",
       "              'EADesktop.exe'): 0.058823529411764705,\n",
       "             ('EADesktop.exe', 'explorer.exe'): 0.09090909090909091,\n",
       "             ('s0', 'SearchApp.exe'): 0.034482758620689655,\n",
       "             ('McUICnt.exe', 'RED-Win64-Shipping.exe'): 0.045454545454545456,\n",
       "             ('RED-Win64-Shipping.exe', 'steamwebhelper.exe'): 0.125,\n",
       "             ('steamwebhelper.exe', 'SearchApp.exe'): 0.023809523809523808,\n",
       "             ('StartMenuExperienceHost.exe', 'SystemSettings.exe'): 0.25,\n",
       "             ('SystemSettings.exe', 'explorer.exe'): 0.16666666666666666,\n",
       "             ('explorer.exe', 'RED-Win64-Shipping.exe'): 0.005405405405405406,\n",
       "             ('ShellExperienceHost.exe',\n",
       "              'steamwebhelper.exe'): 0.05263157894736842,\n",
       "             ('steamwebhelper.exe', 'esrv.exe'): 0.023809523809523808,\n",
       "             ('Zoom.exe', 'SearchApp.exe'): 0.05389221556886228,\n",
       "             ('msedgewebview2.exe', 'chrome.exe'): 0.21428571428571427,\n",
       "             ('SearchApp.exe', 'Discord.exe'): 0.02564102564102564,\n",
       "             ('ShellExperienceHost.exe',\n",
       "              'msedgewebview2.exe'): 0.05263157894736842,\n",
       "             ('msedgewebview2.exe', 'explorer.exe'): 0.03571428571428571,\n",
       "             ('msedgewebview2.exe', 'LockApp.exe'): 0.03571428571428571,\n",
       "             ('s0', 'msedgewebview2.exe'): 0.034482758620689655,\n",
       "             ('msedgewebview2.exe', 'SearchApp.exe'): 0.07142857142857142,\n",
       "             ('ApplicationFrameHost.exe', 'msedgewebview2.exe'): 0.2,\n",
       "             ('esrv.exe', 'Zoom.exe'): 0.02564102564102564,\n",
       "             ('ShellExperienceHost.exe', 'Zoom.exe'): 0.05263157894736842,\n",
       "             ('chrome.exe', 'msedgewebview2.exe'): 0.01773049645390071,\n",
       "             ('explorer.exe', 'msedgewebview2.exe'): 0.005405405405405406,\n",
       "             ('notepad.exe', 'Teams.exe'): 0.5,\n",
       "             ('Microsoft.AAD.BrokerPlugin.exe',\n",
       "              'devenv.exe'): 0.0196078431372549,\n",
       "             ('Zoom.exe', 'devenv.exe'): 0.005988023952095809,\n",
       "             ('devenv.exe', 'Zoom.exe'): 0.08333333333333333,\n",
       "             ('explorer.exe', 'Installer.exe'): 0.005405405405405406,\n",
       "             ('Installer.exe', 'chrome.exe'): 1.0,\n",
       "             ('explorer.exe', 'vpnui.exe'): 0.021621621621621623,\n",
       "             ('vpnui.exe', 'SearchApp.exe'): 0.2,\n",
       "             ('vpnui.exe', 'explorer.exe'): 0.2,\n",
       "             ('vpnui.exe', 'chrome.exe'): 0.4,\n",
       "             ('s0', 'Microsoft.AAD.BrokerPlugin.exe'): 0.034482758620689655})"
      ]
     },
     "execution_count": 20,
     "metadata": {},
     "output_type": "execute_result"
    }
   ],
   "source": [
    "pairProb"
   ]
  },
  {
   "cell_type": "code",
   "execution_count": 21,
   "id": "14e1d819",
   "metadata": {},
   "outputs": [
    {
     "name": "stdout",
     "output_type": "stream",
     "text": [
      "Exe: s0\t\tTotal Probability: 0.9999999999999998\n",
      "Exe: explorer.exe\t\tTotal Probability: 0.9999999999999996\n",
      "Exe: chrome.exe\t\tTotal Probability: 0.9999999999999998\n",
      "Exe: Discord.exe\t\tTotal Probability: 0.9999999999999998\n",
      "Exe: ShellExperienceHost.exe\t\tTotal Probability: 0.9999999999999998\n",
      "Exe: Admin App\t\tTotal Probability: 0.9999999999999999\n",
      "Exe: SystemSettings.exe\t\tTotal Probability: 0.9999999999999999\n",
      "Exe: steamwebhelper.exe\t\tTotal Probability: 0.9999999999999999\n",
      "Exe: TS4_x64.exe\t\tTotal Probability: 0\n",
      "Exe: Taskmgr.exe\t\tTotal Probability: 0\n",
      "Exe: ScreenClippingHost.exe\t\tTotal Probability: 0\n",
      "Exe: Razer Synapse 3.exe\t\tTotal Probability: 0\n",
      "Exe: Razer Central.exe\t\tTotal Probability: 0\n",
      "Exe: git-cmd.exe\t\tTotal Probability: 0\n"
     ]
    }
   ],
   "source": [
    "# Validation\n",
    "# All Probabilities for each \"B\" add up to one showing we made the pairs and probabilties correctly\n",
    "exes = df['VALUE'].unique()\n",
    "for e in exes:\n",
    "    pairs = []\n",
    "    for k in pairProb.keys(): # gets pairs for each exe\n",
    "        if k[0] == e:\n",
    "            pairs.append(k)\n",
    "    sum_prob = 0\n",
    "    for p in pairs: # adds all the probabilities together\n",
    "        sum_prob += pairProb[p]\n",
    "    if sum_prob != 1.0:\n",
    "        print('Exe: ' + str(e) + '\\t\\tTotal Probability: ' + str(sum_prob))      "
   ]
  },
  {
   "cell_type": "code",
   "execution_count": 25,
   "id": "5a8678ed",
   "metadata": {},
   "outputs": [],
   "source": [
    "def getPred(numExe, start='s0'):\n",
    "    \"\"\"Predicts laptop foreground window for a specfied number of exe and starting exe\"\"\"\n",
    "    pred = [start]\n",
    "    for action in range(numExe-1):\n",
    "        prev = pred[-1]\n",
    "        max_prob = 0\n",
    "        new_exe = ''\n",
    "        for k in pairProb.keys(): # Finds the most likely following exe given the previous\n",
    "            if k[0] == prev and pairProb[k] > max_prob:\n",
    "                new_exe = k[1]\n",
    "                max_prob = pairProb[k]\n",
    "        pred.append(new_exe) \n",
    "    return pred"
   ]
  },
  {
   "cell_type": "code",
   "execution_count": 9,
   "id": "6d85cf90",
   "metadata": {},
   "outputs": [
    {
     "name": "stdout",
     "output_type": "stream",
     "text": [
      "['s0', 'explorer.exe', 'chrome.exe', 'Zoom.exe', 'chrome.exe', 'Zoom.exe', 'chrome.exe']\n"
     ]
    }
   ],
   "source": [
    "getPred(7) # default start"
   ]
  },
  {
   "cell_type": "code",
   "execution_count": 10,
   "id": "6d7547d8",
   "metadata": {},
   "outputs": [
    {
     "name": "stdout",
     "output_type": "stream",
     "text": [
      "['DB Browser for SQLite.exe', 'explorer.exe', 'chrome.exe', 'Zoom.exe', 'chrome.exe']\n"
     ]
    }
   ],
   "source": [
    "getPred(5, 'DB Browser for SQLite.exe')"
   ]
  },
  {
   "cell_type": "code",
   "execution_count": 11,
   "id": "972c2fc1",
   "metadata": {},
   "outputs": [
    {
     "name": "stdout",
     "output_type": "stream",
     "text": [
      "['steamwebhelper.exe', 'steam.exe', 'steamwebhelper.exe', 'steam.exe']\n"
     ]
    }
   ],
   "source": [
    "getPred(4, 'steamwebhelper.exe')"
   ]
  },
  {
   "cell_type": "code",
   "execution_count": 38,
   "id": "19801237",
   "metadata": {},
   "outputs": [],
   "source": [
    "outcome = []\n",
    "for i in range(len(X_test)):\n",
    "    pred = getPred(2, X_test[i])\n",
    "    outcome.append(pred[1] == y_test[i])"
   ]
  },
  {
   "cell_type": "code",
   "execution_count": 39,
   "id": "929f8085",
   "metadata": {},
   "outputs": [
    {
     "data": {
      "text/plain": [
       "0.16981132075471697"
      ]
     },
     "execution_count": 39,
     "metadata": {},
     "output_type": "execute_result"
    }
   ],
   "source": [
    "np.sum(outcome) / len(outcome)"
   ]
  },
  {
   "cell_type": "markdown",
   "id": "943778a6",
   "metadata": {},
   "source": [
    "# Matrix"
   ]
  },
  {
   "cell_type": "code",
   "execution_count": 104,
   "id": "d503105c",
   "metadata": {},
   "outputs": [],
   "source": [
    "all_exe = df['VALUE'].unique() # gather all unique .exe\n",
    "prob = [] # vlaues for dataframe\n",
    "\n",
    "\n",
    "# i = event B\n",
    "for i in all_exe:\n",
    "    temp_list = []\n",
    "    # j = event A\n",
    "    for j in all_exe:\n",
    "        exe_set = (i, j) # create a set\n",
    "        try: # see if the set is in one of the pairings\n",
    "            temp_list.append(pairProb[exe_set])\n",
    "        except: # if set is not in pairing, then the probability is 0\n",
    "            temp_list.append(0)\n",
    "\n",
    "    prob.append(temp_list)\n",
    "\n",
    "prob_matrix = pd.DataFrame(prob, index = all_exe, columns = all_exe)"
   ]
  },
  {
   "cell_type": "code",
   "execution_count": 53,
   "id": "eac56be3",
   "metadata": {},
   "outputs": [],
   "source": [
    "allExe = set(np.concatenate((X_train, y_train)))\n",
    "prob =[]\n",
    "\n",
    "for exe in allExe:\n",
    "    temp_list = []\n",
    "    for exe2 in allExe:\n",
    "        pair = (exe, exe2)\n",
    "        try: # see if the set is in one of the pairings\n",
    "            temp_list.append(pairProb[pair])\n",
    "        except: # if set is not in pairing, then the probability is 0\n",
    "            temp_list.append(0)\n",
    "            \n",
    "    prob.append(temp_list)\n",
    "\n",
    "prob_matrix = pd.DataFrame(prob, index = allExe, columns = allExe)   "
   ]
  },
  {
   "cell_type": "code",
   "execution_count": 105,
   "id": "5c485484",
   "metadata": {},
   "outputs": [
    {
     "data": {
      "text/html": [
       "<div>\n",
       "<style scoped>\n",
       "    .dataframe tbody tr th:only-of-type {\n",
       "        vertical-align: middle;\n",
       "    }\n",
       "\n",
       "    .dataframe tbody tr th {\n",
       "        vertical-align: top;\n",
       "    }\n",
       "\n",
       "    .dataframe thead th {\n",
       "        text-align: right;\n",
       "    }\n",
       "</style>\n",
       "<table border=\"1\" class=\"dataframe\">\n",
       "  <thead>\n",
       "    <tr style=\"text-align: right;\">\n",
       "      <th></th>\n",
       "      <th>s0</th>\n",
       "      <th>explorer.exe</th>\n",
       "      <th>esrv.exe</th>\n",
       "      <th>Teams.exe</th>\n",
       "      <th>notepad.exe</th>\n",
       "      <th>chrome.exe</th>\n",
       "      <th>McUICnt.exe</th>\n",
       "      <th>Zoom.exe</th>\n",
       "      <th>Discord.exe</th>\n",
       "      <th>ShellExperienceHost.exe</th>\n",
       "      <th>...</th>\n",
       "      <th>EADesktopInstaller.exe</th>\n",
       "      <th>EADesktop.exe</th>\n",
       "      <th>Peggle.exe</th>\n",
       "      <th>Installer.exe</th>\n",
       "      <th>TS4_x64.exe</th>\n",
       "      <th>Taskmgr.exe</th>\n",
       "      <th>ScreenClippingHost.exe</th>\n",
       "      <th>Razer Synapse 3.exe</th>\n",
       "      <th>Razer Central.exe</th>\n",
       "      <th>git-cmd.exe</th>\n",
       "    </tr>\n",
       "  </thead>\n",
       "  <tbody>\n",
       "    <tr>\n",
       "      <th>s0</th>\n",
       "      <td>0.000000</td>\n",
       "      <td>0.827586</td>\n",
       "      <td>0.034483</td>\n",
       "      <td>0.034483</td>\n",
       "      <td>0.000000</td>\n",
       "      <td>0.000000</td>\n",
       "      <td>0.000000</td>\n",
       "      <td>0.000000</td>\n",
       "      <td>0.000000</td>\n",
       "      <td>0.000000</td>\n",
       "      <td>...</td>\n",
       "      <td>0.0</td>\n",
       "      <td>0.000000</td>\n",
       "      <td>0.0</td>\n",
       "      <td>0.000000</td>\n",
       "      <td>0</td>\n",
       "      <td>0</td>\n",
       "      <td>0</td>\n",
       "      <td>0</td>\n",
       "      <td>0</td>\n",
       "      <td>0</td>\n",
       "    </tr>\n",
       "    <tr>\n",
       "      <th>explorer.exe</th>\n",
       "      <td>0.005405</td>\n",
       "      <td>0.005405</td>\n",
       "      <td>0.091892</td>\n",
       "      <td>0.135135</td>\n",
       "      <td>0.010811</td>\n",
       "      <td>0.297297</td>\n",
       "      <td>0.000000</td>\n",
       "      <td>0.124324</td>\n",
       "      <td>0.070270</td>\n",
       "      <td>0.021622</td>\n",
       "      <td>...</td>\n",
       "      <td>0.0</td>\n",
       "      <td>0.005405</td>\n",
       "      <td>0.0</td>\n",
       "      <td>0.005405</td>\n",
       "      <td>0</td>\n",
       "      <td>0</td>\n",
       "      <td>0</td>\n",
       "      <td>0</td>\n",
       "      <td>0</td>\n",
       "      <td>0</td>\n",
       "    </tr>\n",
       "    <tr>\n",
       "      <th>esrv.exe</th>\n",
       "      <td>0.692308</td>\n",
       "      <td>0.128205</td>\n",
       "      <td>0.000000</td>\n",
       "      <td>0.051282</td>\n",
       "      <td>0.000000</td>\n",
       "      <td>0.025641</td>\n",
       "      <td>0.000000</td>\n",
       "      <td>0.025641</td>\n",
       "      <td>0.000000</td>\n",
       "      <td>0.000000</td>\n",
       "      <td>...</td>\n",
       "      <td>0.0</td>\n",
       "      <td>0.000000</td>\n",
       "      <td>0.0</td>\n",
       "      <td>0.000000</td>\n",
       "      <td>0</td>\n",
       "      <td>0</td>\n",
       "      <td>0</td>\n",
       "      <td>0</td>\n",
       "      <td>0</td>\n",
       "      <td>0</td>\n",
       "    </tr>\n",
       "    <tr>\n",
       "      <th>Teams.exe</th>\n",
       "      <td>0.000000</td>\n",
       "      <td>0.293578</td>\n",
       "      <td>0.009174</td>\n",
       "      <td>0.000000</td>\n",
       "      <td>0.000000</td>\n",
       "      <td>0.403670</td>\n",
       "      <td>0.027523</td>\n",
       "      <td>0.018349</td>\n",
       "      <td>0.045872</td>\n",
       "      <td>0.009174</td>\n",
       "      <td>...</td>\n",
       "      <td>0.0</td>\n",
       "      <td>0.000000</td>\n",
       "      <td>0.0</td>\n",
       "      <td>0.000000</td>\n",
       "      <td>0</td>\n",
       "      <td>0</td>\n",
       "      <td>0</td>\n",
       "      <td>0</td>\n",
       "      <td>0</td>\n",
       "      <td>0</td>\n",
       "    </tr>\n",
       "    <tr>\n",
       "      <th>notepad.exe</th>\n",
       "      <td>0.000000</td>\n",
       "      <td>0.500000</td>\n",
       "      <td>0.000000</td>\n",
       "      <td>0.500000</td>\n",
       "      <td>0.000000</td>\n",
       "      <td>0.000000</td>\n",
       "      <td>0.000000</td>\n",
       "      <td>0.000000</td>\n",
       "      <td>0.000000</td>\n",
       "      <td>0.000000</td>\n",
       "      <td>...</td>\n",
       "      <td>0.0</td>\n",
       "      <td>0.000000</td>\n",
       "      <td>0.0</td>\n",
       "      <td>0.000000</td>\n",
       "      <td>0</td>\n",
       "      <td>0</td>\n",
       "      <td>0</td>\n",
       "      <td>0</td>\n",
       "      <td>0</td>\n",
       "      <td>0</td>\n",
       "    </tr>\n",
       "  </tbody>\n",
       "</table>\n",
       "<p>5 rows × 56 columns</p>\n",
       "</div>"
      ],
      "text/plain": [
       "                    s0  explorer.exe  esrv.exe  Teams.exe  notepad.exe  \\\n",
       "s0            0.000000      0.827586  0.034483   0.034483     0.000000   \n",
       "explorer.exe  0.005405      0.005405  0.091892   0.135135     0.010811   \n",
       "esrv.exe      0.692308      0.128205  0.000000   0.051282     0.000000   \n",
       "Teams.exe     0.000000      0.293578  0.009174   0.000000     0.000000   \n",
       "notepad.exe   0.000000      0.500000  0.000000   0.500000     0.000000   \n",
       "\n",
       "              chrome.exe  McUICnt.exe  Zoom.exe  Discord.exe  \\\n",
       "s0              0.000000     0.000000  0.000000     0.000000   \n",
       "explorer.exe    0.297297     0.000000  0.124324     0.070270   \n",
       "esrv.exe        0.025641     0.000000  0.025641     0.000000   \n",
       "Teams.exe       0.403670     0.027523  0.018349     0.045872   \n",
       "notepad.exe     0.000000     0.000000  0.000000     0.000000   \n",
       "\n",
       "              ShellExperienceHost.exe  ...  EADesktopInstaller.exe  \\\n",
       "s0                           0.000000  ...                     0.0   \n",
       "explorer.exe                 0.021622  ...                     0.0   \n",
       "esrv.exe                     0.000000  ...                     0.0   \n",
       "Teams.exe                    0.009174  ...                     0.0   \n",
       "notepad.exe                  0.000000  ...                     0.0   \n",
       "\n",
       "              EADesktop.exe  Peggle.exe  Installer.exe  TS4_x64.exe  \\\n",
       "s0                 0.000000         0.0       0.000000            0   \n",
       "explorer.exe       0.005405         0.0       0.005405            0   \n",
       "esrv.exe           0.000000         0.0       0.000000            0   \n",
       "Teams.exe          0.000000         0.0       0.000000            0   \n",
       "notepad.exe        0.000000         0.0       0.000000            0   \n",
       "\n",
       "              Taskmgr.exe  ScreenClippingHost.exe  Razer Synapse 3.exe  \\\n",
       "s0                      0                       0                    0   \n",
       "explorer.exe            0                       0                    0   \n",
       "esrv.exe                0                       0                    0   \n",
       "Teams.exe               0                       0                    0   \n",
       "notepad.exe             0                       0                    0   \n",
       "\n",
       "              Razer Central.exe  git-cmd.exe  \n",
       "s0                            0            0  \n",
       "explorer.exe                  0            0  \n",
       "esrv.exe                      0            0  \n",
       "Teams.exe                     0            0  \n",
       "notepad.exe                   0            0  \n",
       "\n",
       "[5 rows x 56 columns]"
      ]
     },
     "execution_count": 105,
     "metadata": {},
     "output_type": "execute_result"
    }
   ],
   "source": [
    "prob_matrix.head()"
   ]
  },
  {
   "cell_type": "markdown",
   "id": "0b3d8faa",
   "metadata": {},
   "source": [
    "# Markov Experimentation"
   ]
  },
  {
   "cell_type": "code",
   "execution_count": 106,
   "id": "36e1cb3a",
   "metadata": {},
   "outputs": [],
   "source": [
    "converter = list(prob_matrix.columns)"
   ]
  },
  {
   "cell_type": "code",
   "execution_count": 107,
   "id": "ddcd38e3",
   "metadata": {},
   "outputs": [],
   "source": [
    "fullTrain = []\n",
    "for i in range(len(X_train)):\n",
    "    fullTrain.append(converter.index(X_train[i]))\n",
    "    fullTrain.append(converter.index(y_train[i]))\n",
    "fullTrain = np.array(fullTrain).reshape(-1, 1)"
   ]
  },
  {
   "cell_type": "code",
   "execution_count": 111,
   "id": "f8dd87db",
   "metadata": {},
   "outputs": [],
   "source": [
    "fullTest = []\n",
    "\n",
    "for i in range(len(X_test)):\n",
    "    fullTest.append(converter.index(X_test[i]))\n",
    "    fullTest.append(converter.index(y_test[i]))\n",
    "        \n",
    "fullTest = np.array(fullTest).reshape(-1, 1)"
   ]
  },
  {
   "cell_type": "code",
   "execution_count": 130,
   "id": "f04b26c9",
   "metadata": {},
   "outputs": [
    {
     "name": "stderr",
     "output_type": "stream",
     "text": [
      "Even though the 'transmat_' attribute is set, it will be overwritten during initialization because 'init_params' contains 't'\n"
     ]
    },
    {
     "data": {
      "text/plain": [
       "array([0, 0, 0, 0, 0, 0, 0, 0, 0, 0, 0, 0, 0, 0, 0, 0, 0, 0, 0, 0, 0, 0,\n",
       "       0, 0, 0, 0, 0, 0, 0, 0, 0, 0, 0, 0, 0, 0, 0, 0, 0, 0, 0, 0, 0, 0,\n",
       "       0, 0, 0, 0, 0, 0, 0, 0, 0, 0, 0, 0, 0, 0, 0, 0, 0, 0, 0, 0, 0, 0,\n",
       "       0, 0, 0, 0, 0, 0, 0, 0, 0, 0, 0, 0, 0, 0, 0, 0, 0, 0, 0, 0, 0, 0,\n",
       "       0, 0, 0, 0, 0, 0, 0, 0, 0, 0, 0, 0, 0, 0, 0, 0, 0, 0, 0, 0, 0, 0,\n",
       "       0, 0, 0, 0, 0, 0, 0, 0, 0, 0, 0, 0, 0, 0, 0, 0, 0, 0, 0, 0, 0, 0,\n",
       "       0, 0, 0, 0, 0, 0, 0, 0, 0, 0, 0, 0, 0, 0, 0, 0, 0, 0, 0, 0, 0, 0,\n",
       "       0, 0, 0, 0, 0, 0, 0, 0, 0, 0, 0, 0, 0, 0, 0, 0, 0, 0, 0, 0, 0, 0,\n",
       "       0, 0, 0, 0, 0, 0, 0, 0, 0, 0, 0, 0, 0, 0, 0, 0, 0, 0, 0, 0, 0, 0,\n",
       "       0, 0, 0, 0, 0, 0, 0, 0, 0, 0, 0, 0, 0, 0, 0, 0, 0, 0, 0, 0, 0, 0,\n",
       "       0, 0, 0, 0, 0, 0, 0, 0, 0, 0, 0, 0, 0, 0, 0, 0, 0, 0, 0, 0, 0, 0,\n",
       "       0, 0, 0, 0, 0, 0, 0, 0, 0, 0, 0, 0, 0, 0, 0, 0, 0, 0, 0, 0, 0, 0,\n",
       "       0, 0, 0, 0, 0, 0, 0, 0, 0, 0, 0, 0, 0, 0, 0, 0, 0, 0, 0, 0, 0, 0,\n",
       "       0, 0, 0, 0, 0, 0, 0, 0, 0, 0, 0, 0, 0, 0, 0, 0, 0, 0, 0, 0, 0, 0,\n",
       "       0, 0, 0, 0, 0, 0, 0, 0, 0, 0, 0, 0, 0, 0, 0, 0, 0, 0, 0, 0, 0, 0,\n",
       "       0, 0, 0, 0, 0, 0, 0, 0, 0, 0, 0, 0, 0, 0, 0, 0, 0, 0, 0, 0, 0, 0,\n",
       "       0, 0, 0, 0, 0, 0, 0, 0, 0, 0, 0, 0, 0, 0, 0, 0, 0, 0, 0, 0, 0, 0,\n",
       "       0, 0, 0, 0, 0, 0, 0, 0, 0, 0, 0, 0, 0, 0, 0, 0, 0, 0, 0, 0, 0, 0,\n",
       "       0, 0, 0, 0, 0, 0, 0, 0, 0, 0, 0, 0, 0, 0, 0, 0, 0, 0, 0, 0, 0, 0,\n",
       "       0, 0, 0, 0, 0, 0, 0, 0, 0, 0, 0, 0, 0, 0, 0, 0, 0, 0, 0, 0, 0, 0,\n",
       "       0, 0, 0, 0, 0, 0, 0, 0, 0, 0, 0, 0, 0, 0, 0, 0, 0, 0, 0, 0, 0, 0,\n",
       "       0, 0, 0, 0, 0, 0, 0, 0, 0, 0, 0, 0, 0, 0, 0, 0, 0, 0, 0, 0, 0, 0,\n",
       "       0, 0, 0, 0, 0, 0, 0, 0, 0, 0, 0, 0, 0, 0, 0, 0, 0, 0, 0, 0, 0, 0,\n",
       "       0, 0, 0, 0, 0, 0, 0, 0, 0, 0, 0, 0, 0, 0, 0, 0, 0, 0, 0, 0, 0, 0,\n",
       "       0, 0, 0, 0, 0, 0, 0, 0, 0, 0, 0, 0, 0, 0, 0, 0, 0, 0, 0, 0, 0, 0,\n",
       "       0, 0, 0, 0, 0, 0, 0, 0, 0, 0, 0, 0, 0, 0, 0, 0, 0, 0, 0, 0, 0, 0,\n",
       "       0, 0, 0, 0, 0, 0, 0, 0, 0, 0, 0, 0, 0, 0, 0, 0, 0, 0, 0, 0, 0, 0,\n",
       "       0, 0, 0, 0, 0, 0, 0, 0, 0, 0, 0, 0, 0, 0, 0, 0, 0, 0, 0, 0, 0, 0,\n",
       "       0, 0, 0, 0, 0, 0, 0, 0, 0, 0, 0, 0, 0, 0, 0, 0, 0, 0, 0, 0])"
      ]
     },
     "execution_count": 130,
     "metadata": {},
     "output_type": "execute_result"
    }
   ],
   "source": [
    "from hmmlearn import hmm\n",
    "\n",
    "model = hmm.GaussianHMM()\n",
    "model.fit(fullTrain)\n",
    "model.predict(fullTest)"
   ]
  },
  {
   "cell_type": "code",
   "execution_count": 125,
   "id": "ce567d18",
   "metadata": {},
   "outputs": [
    {
     "data": {
      "text/plain": [
       "array([[1.]])"
      ]
     },
     "execution_count": 125,
     "metadata": {},
     "output_type": "execute_result"
    }
   ],
   "source": [
    "model.transmat_"
   ]
  }
 ],
 "metadata": {
  "kernelspec": {
   "display_name": "Python 3",
   "language": "python",
   "name": "python3"
  },
  "language_info": {
   "codemirror_mode": {
    "name": "ipython",
    "version": 3
   },
   "file_extension": ".py",
   "mimetype": "text/x-python",
   "name": "python",
   "nbconvert_exporter": "python",
   "pygments_lexer": "ipython3",
   "version": "3.8.8"
  }
 },
 "nbformat": 4,
 "nbformat_minor": 5
}
