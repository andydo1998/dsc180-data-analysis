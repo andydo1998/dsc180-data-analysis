{
 "cells": [
  {
   "cell_type": "code",
   "execution_count": 1,
   "id": "4d8ea1e4",
   "metadata": {},
   "outputs": [],
   "source": [
    "import sys\n",
    "import sqlite3\n",
    "import pandas as pd\n",
    "import numpy as np\n",
    "import os\n",
    "import json\n",
    "import matplotlib.pyplot as plt\n",
    "\n",
    "def get_data(filepath):\n",
    "    '''\n",
    "    Converts all database files in filepath into a single Dataframe\n",
    "    Also converts columns into the correct data type\n",
    "    \n",
    "    Tests whether columns are correct data type\n",
    "    Prints 'Dataframe is working intended' if data types are correct\n",
    "    Return will be 2 DataFrames, the first one is the String values and the second one will be integer values\n",
    "    \n",
    "    Returns None if DataFrames are not in correct formats\n",
    "    '''\n",
    "    # 2 queries, one for string value and one for integer values\n",
    "    appended_data_string = [] \n",
    "    appended_data_ull = []\n",
    "    \n",
    "    # loop through all files in test/testdata\n",
    "    for filename in os.listdir(filepath):\n",
    "        if filename == '.ipynb_checkpoints':\n",
    "            continue\n",
    "            \n",
    "        # create the sql connection\n",
    "        cnx = sqlite3.connect(filepath + filename)\n",
    "\n",
    "        # read as dataframe, set 'MEASUREMENT_TIME' as date time object\n",
    "        sub_df_string = pd.read_sql_query(\"SELECT * FROM COUNTERS_STRING_TIME_DATA\", cnx)\n",
    "        sub_df_ull = pd.read_sql_query(\"SELECT * FROM COUNTERS_ULL_TIME_DATA\", cnx)\n",
    "\n",
    "        # append the informations\n",
    "        appended_data_string.append(sub_df_string)\n",
    "        appended_data_ull.append(sub_df_ull)\n",
    "\n",
    "    # converting into 2 dataframes\n",
    "    df_string = pd.concat(appended_data_string, ignore_index = True)\n",
    "    df_ull = pd.concat(appended_data_ull, ignore_index = True)\n",
    "    \n",
    "    # preprocess the data\n",
    "    df_string = preprocess(df_string)\n",
    "    df_ull = preprocess(df_ull)\n",
    "    \n",
    "    # run tests on dataframe\n",
    "    #if (test_dataframe_string(df_string) and test_dataframe_ull(df_ull)):\n",
    "    #    return df_string, df_ull\n",
    "    \n",
    "    return df_string, df_ull\n",
    "    # something went wrong!\n",
    "    return None\n",
    "\n",
    "\n",
    "def preprocess(df):\n",
    "    '''\n",
    "    Preprocess DataFrame so all data types are correct\n",
    "    '''\n",
    "    df['MEASUREMENT_TIME'] = pd.to_datetime(df['MEASUREMENT_TIME'])\n",
    "    df['PRIVATE_DATA'] = df['PRIVATE_DATA'].astype(int)\n",
    "    \n",
    "    return df\n",
    "\n",
    "def test_dataframe_string(df):\n",
    "    '''\n",
    "    Checks whether the string DataFrame is in the correct format\n",
    "    '''\n",
    "    # get all dtypes\n",
    "    dtypes = df.dtypes\n",
    "    \n",
    "    # columns should be date time, integer, string, then integer\n",
    "    if dtypes[0] == '<M8[ns]' and dtypes[1] == 'int64' and dtypes[2] == 'object' and dtypes[3] == 'int64':\n",
    "        return True\n",
    "    \n",
    "    return False\n",
    "        \n",
    "\n",
    "def test_dataframe_ull(df):\n",
    "    '''\n",
    "    Checks whether the ull DataFrame is in the correct format\n",
    "    '''\n",
    "    # get all dtypes\n",
    "    dtypes = df.dtypes\n",
    "    \n",
    "    # columns should be date time, integer, integer, then integer\n",
    "    if dtypes[0] == '<M8[ns]' and dtypes[1] == 'int64' and dtypes[2] == 'int64' and dtypes[3] == 'int64':\n",
    "        return True\n",
    "    \n",
    "    return False"
   ]
  },
  {
   "cell_type": "code",
   "execution_count": 2,
   "id": "52687074",
   "metadata": {},
   "outputs": [],
   "source": [
    "df_string, df_ull = get_data('test/testdata/')"
   ]
  },
  {
   "cell_type": "code",
   "execution_count": 3,
   "id": "416f5bf7",
   "metadata": {
    "scrolled": false
   },
   "outputs": [
    {
     "data": {
      "text/html": [
       "<div>\n",
       "<style scoped>\n",
       "    .dataframe tbody tr th:only-of-type {\n",
       "        vertical-align: middle;\n",
       "    }\n",
       "\n",
       "    .dataframe tbody tr th {\n",
       "        vertical-align: top;\n",
       "    }\n",
       "\n",
       "    .dataframe thead th {\n",
       "        text-align: right;\n",
       "    }\n",
       "</style>\n",
       "<table border=\"1\" class=\"dataframe\">\n",
       "  <thead>\n",
       "    <tr style=\"text-align: right;\">\n",
       "      <th></th>\n",
       "      <th>MEASUREMENT_TIME</th>\n",
       "      <th>ID_INPUT</th>\n",
       "      <th>VALUE</th>\n",
       "      <th>PRIVATE_DATA</th>\n",
       "    </tr>\n",
       "  </thead>\n",
       "  <tbody>\n",
       "    <tr>\n",
       "      <th>0</th>\n",
       "      <td>2021-12-01 06:14:49.924</td>\n",
       "      <td>3</td>\n",
       "      <td>explorer.exe</td>\n",
       "      <td>0</td>\n",
       "    </tr>\n",
       "    <tr>\n",
       "      <th>1</th>\n",
       "      <td>2021-12-01 06:14:50.950</td>\n",
       "      <td>3</td>\n",
       "      <td>esrv.exe</td>\n",
       "      <td>0</td>\n",
       "    </tr>\n",
       "    <tr>\n",
       "      <th>2</th>\n",
       "      <td>2021-12-01 06:14:51.461</td>\n",
       "      <td>3</td>\n",
       "      <td>Teams.exe</td>\n",
       "      <td>0</td>\n",
       "    </tr>\n",
       "    <tr>\n",
       "      <th>3</th>\n",
       "      <td>2021-12-01 06:14:52.490</td>\n",
       "      <td>3</td>\n",
       "      <td>esrv.exe</td>\n",
       "      <td>0</td>\n",
       "    </tr>\n",
       "    <tr>\n",
       "      <th>4</th>\n",
       "      <td>2021-12-01 06:14:53.079</td>\n",
       "      <td>3</td>\n",
       "      <td>explorer.exe</td>\n",
       "      <td>0</td>\n",
       "    </tr>\n",
       "    <tr>\n",
       "      <th>...</th>\n",
       "      <td>...</td>\n",
       "      <td>...</td>\n",
       "      <td>...</td>\n",
       "      <td>...</td>\n",
       "    </tr>\n",
       "    <tr>\n",
       "      <th>2668</th>\n",
       "      <td>2022-01-14 05:55:48.841</td>\n",
       "      <td>3</td>\n",
       "      <td>mintty.exe</td>\n",
       "      <td>0</td>\n",
       "    </tr>\n",
       "    <tr>\n",
       "      <th>2669</th>\n",
       "      <td>2022-01-14 05:55:54.972</td>\n",
       "      <td>3</td>\n",
       "      <td>explorer.exe</td>\n",
       "      <td>0</td>\n",
       "    </tr>\n",
       "    <tr>\n",
       "      <th>2670</th>\n",
       "      <td>2022-01-14 05:55:57.523</td>\n",
       "      <td>3</td>\n",
       "      <td>mintty.exe</td>\n",
       "      <td>0</td>\n",
       "    </tr>\n",
       "    <tr>\n",
       "      <th>2671</th>\n",
       "      <td>2022-01-14 05:56:00.079</td>\n",
       "      <td>3</td>\n",
       "      <td>chrome.exe</td>\n",
       "      <td>0</td>\n",
       "    </tr>\n",
       "    <tr>\n",
       "      <th>2672</th>\n",
       "      <td>2022-01-14 05:56:05.688</td>\n",
       "      <td>3</td>\n",
       "      <td>explorer.exe</td>\n",
       "      <td>0</td>\n",
       "    </tr>\n",
       "  </tbody>\n",
       "</table>\n",
       "<p>2673 rows × 4 columns</p>\n",
       "</div>"
      ],
      "text/plain": [
       "            MEASUREMENT_TIME  ID_INPUT         VALUE  PRIVATE_DATA\n",
       "0    2021-12-01 06:14:49.924         3  explorer.exe             0\n",
       "1    2021-12-01 06:14:50.950         3      esrv.exe             0\n",
       "2    2021-12-01 06:14:51.461         3     Teams.exe             0\n",
       "3    2021-12-01 06:14:52.490         3      esrv.exe             0\n",
       "4    2021-12-01 06:14:53.079         3  explorer.exe             0\n",
       "...                      ...       ...           ...           ...\n",
       "2668 2022-01-14 05:55:48.841         3    mintty.exe             0\n",
       "2669 2022-01-14 05:55:54.972         3  explorer.exe             0\n",
       "2670 2022-01-14 05:55:57.523         3    mintty.exe             0\n",
       "2671 2022-01-14 05:56:00.079         3    chrome.exe             0\n",
       "2672 2022-01-14 05:56:05.688         3  explorer.exe             0\n",
       "\n",
       "[2673 rows x 4 columns]"
      ]
     },
     "execution_count": 3,
     "metadata": {},
     "output_type": "execute_result"
    }
   ],
   "source": [
    "df_string"
   ]
  },
  {
   "cell_type": "code",
   "execution_count": 4,
   "id": "f8c6fa0c",
   "metadata": {},
   "outputs": [
    {
     "data": {
      "text/plain": [
       "MEASUREMENT_TIME    datetime64[ns]\n",
       "ID_INPUT                     int64\n",
       "VALUE                       object\n",
       "PRIVATE_DATA                 int32\n",
       "dtype: object"
      ]
     },
     "execution_count": 4,
     "metadata": {},
     "output_type": "execute_result"
    }
   ],
   "source": [
    "df_string.dtypes"
   ]
  },
  {
   "cell_type": "code",
   "execution_count": 5,
   "id": "830864a7",
   "metadata": {},
   "outputs": [
    {
     "data": {
      "text/html": [
       "<div>\n",
       "<style scoped>\n",
       "    .dataframe tbody tr th:only-of-type {\n",
       "        vertical-align: middle;\n",
       "    }\n",
       "\n",
       "    .dataframe tbody tr th {\n",
       "        vertical-align: top;\n",
       "    }\n",
       "\n",
       "    .dataframe thead th {\n",
       "        text-align: right;\n",
       "    }\n",
       "</style>\n",
       "<table border=\"1\" class=\"dataframe\">\n",
       "  <thead>\n",
       "    <tr style=\"text-align: right;\">\n",
       "      <th></th>\n",
       "      <th>MEASUREMENT_TIME</th>\n",
       "      <th>ID_INPUT</th>\n",
       "      <th>VALUE</th>\n",
       "      <th>PRIVATE_DATA</th>\n",
       "    </tr>\n",
       "  </thead>\n",
       "  <tbody>\n",
       "    <tr>\n",
       "      <th>0</th>\n",
       "      <td>2021-12-01 06:14:48.902</td>\n",
       "      <td>0</td>\n",
       "      <td>1</td>\n",
       "      <td>0</td>\n",
       "    </tr>\n",
       "    <tr>\n",
       "      <th>1</th>\n",
       "      <td>2021-12-01 06:14:49.411</td>\n",
       "      <td>0</td>\n",
       "      <td>1</td>\n",
       "      <td>0</td>\n",
       "    </tr>\n",
       "    <tr>\n",
       "      <th>2</th>\n",
       "      <td>2021-12-01 06:14:48.902</td>\n",
       "      <td>1</td>\n",
       "      <td>657</td>\n",
       "      <td>0</td>\n",
       "    </tr>\n",
       "    <tr>\n",
       "      <th>3</th>\n",
       "      <td>2021-12-01 06:14:48.902</td>\n",
       "      <td>2</td>\n",
       "      <td>551</td>\n",
       "      <td>0</td>\n",
       "    </tr>\n",
       "    <tr>\n",
       "      <th>4</th>\n",
       "      <td>2021-12-01 06:14:49.923</td>\n",
       "      <td>0</td>\n",
       "      <td>1</td>\n",
       "      <td>0</td>\n",
       "    </tr>\n",
       "    <tr>\n",
       "      <th>...</th>\n",
       "      <td>...</td>\n",
       "      <td>...</td>\n",
       "      <td>...</td>\n",
       "      <td>...</td>\n",
       "    </tr>\n",
       "    <tr>\n",
       "      <th>849755</th>\n",
       "      <td>2022-01-14 05:59:51.116</td>\n",
       "      <td>0</td>\n",
       "      <td>1</td>\n",
       "      <td>0</td>\n",
       "    </tr>\n",
       "    <tr>\n",
       "      <th>849756</th>\n",
       "      <td>2022-01-14 05:59:51.628</td>\n",
       "      <td>0</td>\n",
       "      <td>1</td>\n",
       "      <td>0</td>\n",
       "    </tr>\n",
       "    <tr>\n",
       "      <th>849757</th>\n",
       "      <td>2022-01-14 05:59:52.139</td>\n",
       "      <td>0</td>\n",
       "      <td>1</td>\n",
       "      <td>0</td>\n",
       "    </tr>\n",
       "    <tr>\n",
       "      <th>849758</th>\n",
       "      <td>2022-01-14 05:59:52.640</td>\n",
       "      <td>0</td>\n",
       "      <td>1</td>\n",
       "      <td>0</td>\n",
       "    </tr>\n",
       "    <tr>\n",
       "      <th>849759</th>\n",
       "      <td>2022-01-14 05:59:53.264</td>\n",
       "      <td>0</td>\n",
       "      <td>1</td>\n",
       "      <td>0</td>\n",
       "    </tr>\n",
       "  </tbody>\n",
       "</table>\n",
       "<p>849760 rows × 4 columns</p>\n",
       "</div>"
      ],
      "text/plain": [
       "              MEASUREMENT_TIME  ID_INPUT  VALUE  PRIVATE_DATA\n",
       "0      2021-12-01 06:14:48.902         0      1             0\n",
       "1      2021-12-01 06:14:49.411         0      1             0\n",
       "2      2021-12-01 06:14:48.902         1    657             0\n",
       "3      2021-12-01 06:14:48.902         2    551             0\n",
       "4      2021-12-01 06:14:49.923         0      1             0\n",
       "...                        ...       ...    ...           ...\n",
       "849755 2022-01-14 05:59:51.116         0      1             0\n",
       "849756 2022-01-14 05:59:51.628         0      1             0\n",
       "849757 2022-01-14 05:59:52.139         0      1             0\n",
       "849758 2022-01-14 05:59:52.640         0      1             0\n",
       "849759 2022-01-14 05:59:53.264         0      1             0\n",
       "\n",
       "[849760 rows x 4 columns]"
      ]
     },
     "execution_count": 5,
     "metadata": {},
     "output_type": "execute_result"
    }
   ],
   "source": [
    "df_ull"
   ]
  },
  {
   "cell_type": "code",
   "execution_count": 6,
   "id": "b0d5800d",
   "metadata": {},
   "outputs": [
    {
     "data": {
      "text/plain": [
       "MEASUREMENT_TIME    datetime64[ns]\n",
       "ID_INPUT                     int64\n",
       "VALUE                        int64\n",
       "PRIVATE_DATA                 int32\n",
       "dtype: object"
      ]
     },
     "execution_count": 6,
     "metadata": {},
     "output_type": "execute_result"
    }
   ],
   "source": [
    "df_ull.dtypes"
   ]
  },
  {
   "cell_type": "code",
   "execution_count": 17,
   "id": "8483634f",
   "metadata": {},
   "outputs": [
    {
     "data": {
      "text/plain": [
       "chrome.exe         385\n",
       "Program Manager    384\n",
       "Progman            384\n",
       "explorer.exe       301\n",
       "Zoom.exe           201\n",
       "Name: VALUE, dtype: int64"
      ]
     },
     "execution_count": 17,
     "metadata": {},
     "output_type": "execute_result"
    }
   ],
   "source": [
    "df_string['VALUE'].value_counts()[:5]"
   ]
  },
  {
   "cell_type": "code",
   "execution_count": 19,
   "id": "7f44899c",
   "metadata": {},
   "outputs": [
    {
     "data": {
      "image/png": "[encoded data removed]",
      "text/plain": [
       "<Figure size 432x288 with 1 Axes>"
      ]
     },
     "metadata": {
      "needs_background": "light"
     },
     "output_type": "display_data"
    }
   ],
   "source": [
    "df_string['VALUE'].value_counts()[:5].plot.barh(x = 'index', y = 'VALUE')\n",
    "plt.show()"
   ]
  },
  {
   "cell_type": "code",
   "execution_count": 22,
   "id": "fd875d06",
   "metadata": {},
   "outputs": [
    {
     "data": {
      "text/plain": [
       "Peggle.exe           1\n",
       "Installer.exe        1\n",
       "XboxInstaller.exe    1\n",
       "ScreenSketch.exe     1\n",
       "git-cmd.exe          1\n",
       "Name: VALUE, dtype: int64"
      ]
     },
     "execution_count": 22,
     "metadata": {},
     "output_type": "execute_result"
    }
   ],
   "source": [
    "df_string['VALUE'].value_counts()[-5:]"
   ]
  },
  {
   "cell_type": "code",
   "execution_count": 21,
   "id": "fd769b18",
   "metadata": {},
   "outputs": [
    {
     "data": {
      "image/png": "[encoded data removed]",
      "text/plain": [
       "<Figure size 432x288 with 1 Axes>"
      ]
     },
     "metadata": {
      "needs_background": "light"
     },
     "output_type": "display_data"
    }
   ],
   "source": [
    "df_string['VALUE'].value_counts()[-5:].plot.barh(x = 'index', y = 'VALUE')\n",
    "plt.show()"
   ]
  },
  {
   "cell_type": "code",
   "execution_count": null,
   "id": "84234bdc",
   "metadata": {},
   "outputs": [],
   "source": []
  }
 ],
 "metadata": {
  "kernelspec": {
   "display_name": "Python 3 (ipykernel)",
   "language": "python",
   "name": "python3"
  },
  "language_info": {
   "codemirror_mode": {
    "name": "ipython",
    "version": 3
   },
   "file_extension": ".py",
   "mimetype": "text/x-python",
   "name": "python",
   "nbconvert_exporter": "python",
   "pygments_lexer": "ipython3",
   "version": "3.10.0"
  }
 },
 "nbformat": 4,
 "nbformat_minor": 5
}
