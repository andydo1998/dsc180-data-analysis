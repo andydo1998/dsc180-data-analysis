{
 "cells": [
  {
   "cell_type": "markdown",
   "id": "8e8607b1",
   "metadata": {},
   "source": [
    "# Data Cleaning and Exploration"
   ]
  },
  {
   "cell_type": "code",
   "execution_count": 55,
   "id": "4d8ea1e4",
   "metadata": {},
   "outputs": [],
   "source": [
    "import sys\n",
    "import sqlite3\n",
    "import pandas as pd\n",
    "import numpy as np\n",
    "import os\n",
    "import json\n",
    "import matplotlib.pyplot as plt\n",
    "\n",
    "def get_data(filepath):\n",
    "    '''\n",
    "    Converts all database files in filepath into a single Dataframe\n",
    "    Also converts columns into the correct data type\n",
    "    \n",
    "    Tests whether columns are correct data type\n",
    "    Prints 'Dataframe is working intended' if data types are correct\n",
    "    Return will be 2 DataFrames, the first one is the String values and the second one will be integer values\n",
    "    \n",
    "    Returns None if DataFrames are not in correct formats\n",
    "    '''\n",
    "    # 2 queries, one for string value and one for integer values\n",
    "    appended_data_string = [] \n",
    "    appended_data_ull = []\n",
    "    \n",
    "    # loop through all files in test/testdata\n",
    "    for filename in os.listdir(filepath):\n",
    "        if filename == '.ipynb_checkpoints':\n",
    "            continue\n",
    "            \n",
    "        # create the sql connection\n",
    "        cnx = sqlite3.connect(filepath + filename)\n",
    "\n",
    "        # read as dataframe, set 'MEASUREMENT_TIME' as date time object\n",
    "        sub_df_string = pd.read_sql_query(\"SELECT * FROM COUNTERS_STRING_TIME_DATA\", cnx)\n",
    "        sub_df_ull = pd.read_sql_query(\"SELECT * FROM COUNTERS_ULL_TIME_DATA\", cnx)\n",
    "\n",
    "        # append \"Start Row\"\n",
    "        first_row_string = sub_df_string.loc[0]\n",
    "        new_row_string = pd.DataFrame({'MEASUREMENT_TIME': first_row_string[0], 'ID_INPUT': first_row_string[1], 'VALUE': 's0', 'PRIVATE_DATA': 0}, index =[0])\n",
    "        sub_df_string = pd.concat([new_row_string, sub_df_string]).reset_index(drop=True)\n",
    "        \n",
    "        # append the informations\n",
    "        appended_data_string.append(sub_df_string)\n",
    "        appended_data_ull.append(sub_df_ull)\n",
    "\n",
    "    # converting into 2 dataframes\n",
    "    df_string = pd.concat(appended_data_string, ignore_index = True)\n",
    "    df_ull = pd.concat(appended_data_ull, ignore_index = True)\n",
    "    \n",
    "    # preprocess the data\n",
    "    df_string = preprocess(df_string)\n",
    "    df_ull = preprocess(df_ull)\n",
    "    \n",
    "    # run tests on dataframe\n",
    "    #if (test_dataframe_string(df_string) and test_dataframe_ull(df_ull)):\n",
    "    #    return df_string, df_ull\n",
    "    return df_string, df_ull\n",
    "    # something went wrong!\n",
    "    return None\n",
    "\n",
    "\n",
    "def preprocess(df):\n",
    "    '''\n",
    "    Preprocess DataFrame so all data types are correct\n",
    "    '''\n",
    "    df['MEASUREMENT_TIME'] = pd.to_datetime(df['MEASUREMENT_TIME'])\n",
    "    df['PRIVATE_DATA'] = df['PRIVATE_DATA'].astype(int)\n",
    "    \n",
    "    return df\n",
    "\n",
    "def test_dataframe_string(df):\n",
    "    '''\n",
    "    Checks whether the string DataFrame is in the correct format\n",
    "    '''\n",
    "    # get all dtypes\n",
    "    dtypes = df.dtypes\n",
    "    \n",
    "    # columns should be date time, integer, string, then integer\n",
    "    if dtypes[0] == '<M8[ns]' and dtypes[1] == 'int64' and dtypes[2] == 'object' and dtypes[3] == 'int64':\n",
    "        return True\n",
    "    \n",
    "    return False\n",
    "        \n",
    "\n",
    "def test_dataframe_ull(df):\n",
    "    '''\n",
    "    Checks whether the ull DataFrame is in the correct format\n",
    "    '''\n",
    "    # get all dtypes\n",
    "    dtypes = df.dtypes\n",
    "    \n",
    "    # columns should be date time, integer, integer, then integer\n",
    "    if dtypes[0] == '<M8[ns]' and dtypes[1] == 'int64' and dtypes[2] == 'int64' and dtypes[3] == 'int64':\n",
    "        return True\n",
    "    \n",
    "    return False"
   ]
  },
  {
   "cell_type": "code",
   "execution_count": 56,
   "id": "52687074",
   "metadata": {},
   "outputs": [],
   "source": [
    "df_string, df_ull = get_data('test/testdata/')"
   ]
  },
  {
   "cell_type": "code",
   "execution_count": 57,
   "id": "416f5bf7",
   "metadata": {
    "scrolled": false
   },
   "outputs": [
    {
     "data": {
      "text/html": [
       "<div>\n",
       "<style scoped>\n",
       "    .dataframe tbody tr th:only-of-type {\n",
       "        vertical-align: middle;\n",
       "    }\n",
       "\n",
       "    .dataframe tbody tr th {\n",
       "        vertical-align: top;\n",
       "    }\n",
       "\n",
       "    .dataframe thead th {\n",
       "        text-align: right;\n",
       "    }\n",
       "</style>\n",
       "<table border=\"1\" class=\"dataframe\">\n",
       "  <thead>\n",
       "    <tr style=\"text-align: right;\">\n",
       "      <th></th>\n",
       "      <th>MEASUREMENT_TIME</th>\n",
       "      <th>ID_INPUT</th>\n",
       "      <th>VALUE</th>\n",
       "      <th>PRIVATE_DATA</th>\n",
       "    </tr>\n",
       "  </thead>\n",
       "  <tbody>\n",
       "    <tr>\n",
       "      <th>0</th>\n",
       "      <td>2021-12-01 06:14:49.924</td>\n",
       "      <td>3</td>\n",
       "      <td>s0</td>\n",
       "      <td>0</td>\n",
       "    </tr>\n",
       "    <tr>\n",
       "      <th>1</th>\n",
       "      <td>2021-12-01 06:14:49.924</td>\n",
       "      <td>3</td>\n",
       "      <td>explorer.exe</td>\n",
       "      <td>0</td>\n",
       "    </tr>\n",
       "    <tr>\n",
       "      <th>2</th>\n",
       "      <td>2021-12-01 06:14:50.950</td>\n",
       "      <td>3</td>\n",
       "      <td>esrv.exe</td>\n",
       "      <td>0</td>\n",
       "    </tr>\n",
       "    <tr>\n",
       "      <th>3</th>\n",
       "      <td>2021-12-01 06:14:51.461</td>\n",
       "      <td>3</td>\n",
       "      <td>Teams.exe</td>\n",
       "      <td>0</td>\n",
       "    </tr>\n",
       "    <tr>\n",
       "      <th>4</th>\n",
       "      <td>2021-12-01 06:14:52.490</td>\n",
       "      <td>3</td>\n",
       "      <td>esrv.exe</td>\n",
       "      <td>0</td>\n",
       "    </tr>\n",
       "  </tbody>\n",
       "</table>\n",
       "</div>"
      ],
      "text/plain": [
       "         MEASUREMENT_TIME  ID_INPUT         VALUE  PRIVATE_DATA\n",
       "0 2021-12-01 06:14:49.924         3            s0             0\n",
       "1 2021-12-01 06:14:49.924         3  explorer.exe             0\n",
       "2 2021-12-01 06:14:50.950         3      esrv.exe             0\n",
       "3 2021-12-01 06:14:51.461         3     Teams.exe             0\n",
       "4 2021-12-01 06:14:52.490         3      esrv.exe             0"
      ]
     },
     "execution_count": 57,
     "metadata": {},
     "output_type": "execute_result"
    }
   ],
   "source": [
    "df_string.head()"
   ]
  },
  {
   "cell_type": "code",
   "execution_count": 4,
   "id": "f8c6fa0c",
   "metadata": {},
   "outputs": [
    {
     "data": {
      "text/plain": [
       "MEASUREMENT_TIME    datetime64[ns]\n",
       "ID_INPUT                     int64\n",
       "VALUE                       object\n",
       "PRIVATE_DATA                 int32\n",
       "dtype: object"
      ]
     },
     "execution_count": 4,
     "metadata": {},
     "output_type": "execute_result"
    }
   ],
   "source": [
    "df_string.dtypes"
   ]
  },
  {
   "cell_type": "code",
   "execution_count": 5,
   "id": "830864a7",
   "metadata": {},
   "outputs": [
    {
     "data": {
      "text/html": [
       "<div>\n",
       "<style scoped>\n",
       "    .dataframe tbody tr th:only-of-type {\n",
       "        vertical-align: middle;\n",
       "    }\n",
       "\n",
       "    .dataframe tbody tr th {\n",
       "        vertical-align: top;\n",
       "    }\n",
       "\n",
       "    .dataframe thead th {\n",
       "        text-align: right;\n",
       "    }\n",
       "</style>\n",
       "<table border=\"1\" class=\"dataframe\">\n",
       "  <thead>\n",
       "    <tr style=\"text-align: right;\">\n",
       "      <th></th>\n",
       "      <th>MEASUREMENT_TIME</th>\n",
       "      <th>ID_INPUT</th>\n",
       "      <th>VALUE</th>\n",
       "      <th>PRIVATE_DATA</th>\n",
       "    </tr>\n",
       "  </thead>\n",
       "  <tbody>\n",
       "    <tr>\n",
       "      <th>0</th>\n",
       "      <td>2021-12-01 06:14:48.902</td>\n",
       "      <td>0</td>\n",
       "      <td>1</td>\n",
       "      <td>0</td>\n",
       "    </tr>\n",
       "    <tr>\n",
       "      <th>1</th>\n",
       "      <td>2021-12-01 06:14:49.411</td>\n",
       "      <td>0</td>\n",
       "      <td>1</td>\n",
       "      <td>0</td>\n",
       "    </tr>\n",
       "    <tr>\n",
       "      <th>2</th>\n",
       "      <td>2021-12-01 06:14:48.902</td>\n",
       "      <td>1</td>\n",
       "      <td>657</td>\n",
       "      <td>0</td>\n",
       "    </tr>\n",
       "    <tr>\n",
       "      <th>3</th>\n",
       "      <td>2021-12-01 06:14:48.902</td>\n",
       "      <td>2</td>\n",
       "      <td>551</td>\n",
       "      <td>0</td>\n",
       "    </tr>\n",
       "    <tr>\n",
       "      <th>4</th>\n",
       "      <td>2021-12-01 06:14:49.923</td>\n",
       "      <td>0</td>\n",
       "      <td>1</td>\n",
       "      <td>0</td>\n",
       "    </tr>\n",
       "  </tbody>\n",
       "</table>\n",
       "</div>"
      ],
      "text/plain": [
       "         MEASUREMENT_TIME  ID_INPUT  VALUE  PRIVATE_DATA\n",
       "0 2021-12-01 06:14:48.902         0      1             0\n",
       "1 2021-12-01 06:14:49.411         0      1             0\n",
       "2 2021-12-01 06:14:48.902         1    657             0\n",
       "3 2021-12-01 06:14:48.902         2    551             0\n",
       "4 2021-12-01 06:14:49.923         0      1             0"
      ]
     },
     "execution_count": 5,
     "metadata": {},
     "output_type": "execute_result"
    }
   ],
   "source": [
    "df_ull.head()"
   ]
  },
  {
   "cell_type": "code",
   "execution_count": 6,
   "id": "b0d5800d",
   "metadata": {},
   "outputs": [
    {
     "data": {
      "text/plain": [
       "MEASUREMENT_TIME    datetime64[ns]\n",
       "ID_INPUT                     int64\n",
       "VALUE                        int64\n",
       "PRIVATE_DATA                 int32\n",
       "dtype: object"
      ]
     },
     "execution_count": 6,
     "metadata": {},
     "output_type": "execute_result"
    }
   ],
   "source": [
    "df_ull.dtypes"
   ]
  },
  {
   "cell_type": "code",
   "execution_count": 7,
   "id": "8483634f",
   "metadata": {
    "scrolled": true
   },
   "outputs": [
    {
     "data": {
      "text/plain": [
       "chrome.exe      336\n",
       "explorer.exe    243\n",
       "Zoom.exe        174\n",
       "Teams.exe       129\n",
       "Discord.exe      97\n",
       "Name: VALUE, dtype: int64"
      ]
     },
     "execution_count": 7,
     "metadata": {},
     "output_type": "execute_result"
    }
   ],
   "source": [
    "df_string[df_string['ID_INPUT'] == 3]['VALUE'].value_counts()[:5]"
   ]
  },
  {
   "cell_type": "code",
   "execution_count": 8,
   "id": "6ccdcd2d",
   "metadata": {},
   "outputs": [
    {
     "name": "stdout",
     "output_type": "stream",
     "text": [
      "Number of Applications: 55\n"
     ]
    }
   ],
   "source": [
    "num_apps = len(df_string[df_string['ID_INPUT'] == 3]['VALUE'].unique())\n",
    "print('Number of Applications: ' + str(num_apps))"
   ]
  },
  {
   "cell_type": "code",
   "execution_count": 9,
   "id": "7f44899c",
   "metadata": {},
   "outputs": [
    {
     "data": {
      "image/png": "[encoded data removed]",
      "text/plain": [
       "<Figure size 432x288 with 1 Axes>"
      ]
     },
     "metadata": {
      "needs_background": "light"
     },
     "output_type": "display_data"
    }
   ],
   "source": [
    "df_string[df_string['ID_INPUT'] == 3]['VALUE'].value_counts()[:5].plot.barh(x = 'index', y = 'VALUE')\n",
    "plt.show()"
   ]
  },
  {
   "cell_type": "code",
   "execution_count": 10,
   "id": "fd875d06",
   "metadata": {},
   "outputs": [
    {
     "data": {
      "text/plain": [
       "EADesktopInstaller.exe     1\n",
       "XboxInstaller.exe          1\n",
       "AccountsControlHost.exe    1\n",
       "Steam.exe                  1\n",
       "mcclauncher.exe            1\n",
       "Name: VALUE, dtype: int64"
      ]
     },
     "execution_count": 10,
     "metadata": {},
     "output_type": "execute_result"
    }
   ],
   "source": [
    "df_string['VALUE'].value_counts()[-5:]"
   ]
  },
  {
   "cell_type": "code",
   "execution_count": 11,
   "id": "fd769b18",
   "metadata": {},
   "outputs": [
    {
     "data": {
      "image/png": "[encoded data removed]",
      "text/plain": [
       "<Figure size 432x288 with 1 Axes>"
      ]
     },
     "metadata": {
      "needs_background": "light"
     },
     "output_type": "display_data"
    }
   ],
   "source": [
    "df_string[df_string['ID_INPUT'] == 3]['VALUE'].value_counts()[-5:].plot.barh(x = 'index', y = 'VALUE')\n",
    "plt.show()"
   ]
  },
  {
   "cell_type": "markdown",
   "id": "7063af27",
   "metadata": {},
   "source": [
    "# Probability Matrix"
   ]
  }
 ],
 "metadata": {
  "kernelspec": {
   "display_name": "Python 3",
   "language": "python",
   "name": "python3"
  },
  "language_info": {
   "codemirror_mode": {
    "name": "ipython",
    "version": 3
   },
   "file_extension": ".py",
   "mimetype": "text/x-python",
   "name": "python",
   "nbconvert_exporter": "python",
   "pygments_lexer": "ipython3",
   "version": "3.8.8"
  }
 },
 "nbformat": 4,
 "nbformat_minor": 5
}
